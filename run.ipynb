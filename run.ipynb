{
 "cells": [
  {
   "cell_type": "code",
   "execution_count": 1,
   "metadata": {},
   "outputs": [],
   "source": [
    "\"\"\"\n",
    "conda create -n diffusion python=3.12\n",
    "conda activate diffusion\n",
    "conda install pip\n",
    "pip install torch torchvision datasets einops\n",
    "conda env export > environment.yml\n",
    "\"\"\"\n",
    "%load_ext autoreload\n",
    "%autoreload 2"
   ]
  },
  {
   "cell_type": "code",
   "execution_count": null,
   "metadata": {},
   "outputs": [
    {
     "name": "stderr",
     "output_type": "stream",
     "text": [
      "/home/vrim/miniconda3/envs/diffusion/lib/python3.12/site-packages/tqdm/auto.py:21: TqdmWarning: IProgress not found. Please update jupyter and ipywidgets. See https://ipywidgets.readthedocs.io/en/stable/user_install.html\n",
      "  from .autonotebook import tqdm as notebook_tqdm\n"
     ]
    }
   ],
   "source": [
    "import random\n",
    "\n",
    "import numpy as np\n",
    "import torch\n",
    "from datasets import load_dataset\n",
    "from torch.optim import Adam\n",
    "from tqdm import tqdm\n",
    "\n",
    "from backward import p_losses, p_refine, sample\n",
    "from data import get_dataloader\n",
    "from forward import get_noisy_image\n",
    "from nn import Unet\n",
    "from utils import DiffusionConstants, tensor_to_PIL\n",
    "\n",
    "seed = 1\n",
    "random.seed(seed)\n",
    "np.random.seed(seed)\n",
    "torch.manual_seed(seed)\n",
    "\n",
    "path = \"ylecun/mnist\"\n",
    "split = \"train[:10%]\"\n",
    "image_column = \"image\"\n",
    "column_filter = None # Put something like (\"label\", 5) to only generate images with label 5\n",
    "image_size = 32\n",
    "channels = 1 # If you want to use RGB, change this to 3 and also change utils.PIL_to_tensor to convert to RGB\n",
    "timesteps = 256\n",
    "constants = DiffusionConstants(timesteps=timesteps)\n",
    "batch_size = 128\n",
    "epochs = 128\n",
    "device = \"cuda:6\" if torch.cuda.is_available() else \"cpu\"\n"
   ]
  },
  {
   "cell_type": "code",
   "execution_count": 3,
   "metadata": {},
   "outputs": [
    {
     "name": "stdout",
     "output_type": "stream",
     "text": [
      "Display the first image from the dataset.\n"
     ]
    },
    {
     "data": {
      "image/jpeg": "[encoded data removed]",
      "image/png": "[encoded data removed]",
      "text/plain": [
       "<PIL.PngImagePlugin.PngImageFile image mode=L size=28x28>"
      ]
     },
     "execution_count": 3,
     "metadata": {},
     "output_type": "execute_result"
    }
   ],
   "source": [
    "print(\"Display the first image from the dataset.\")\n",
    "load_dataset(path, split=\"train[0:1]\")[0][image_column]"
   ]
  },
  {
   "cell_type": "code",
   "execution_count": 4,
   "metadata": {},
   "outputs": [
    {
     "name": "stdout",
     "output_type": "stream",
     "text": [
      "Get a dataloader with desired images.\n"
     ]
    },
    {
     "name": "stderr",
     "output_type": "stream",
     "text": [
      "Map: 100%|██████████| 6000/6000 [00:01<00:00, 3079.87 examples/s]\n"
     ]
    },
    {
     "name": "stdout",
     "output_type": "stream",
     "text": [
      "len(dataloader) = 47\n",
      "\n",
      "Batch should have shape (batch_size, channels, height, width)\n",
      "batch.shape = torch.Size([128, 1, 32, 32])\n",
      "\n",
      "Values should be between -1 and 1\n",
      "batch.min() = tensor(-1.)\n",
      "batch.max() = tensor(1.)\n",
      "\n",
      "The reconstructed image\n"
     ]
    },
    {
     "data": {
      "image/jpeg": "[encoded data removed]",
      "image/png": "[encoded data removed]",
      "text/plain": [
       "<PIL.Image.Image image mode=L size=32x32>"
      ]
     },
     "metadata": {},
     "output_type": "display_data"
    }
   ],
   "source": [
    "print(\"Get a dataloader with desired images.\")\n",
    "dataloader = get_dataloader(\n",
    "    path,\n",
    "    split=split,\n",
    "    resize=(image_size, image_size),\n",
    "    image_column=image_column,\n",
    "    column_filter=column_filter,\n",
    "    batch_size=batch_size,\n",
    "    shuffle=False,\n",
    ")\n",
    "print(f\"{len(dataloader) = }\")\n",
    "\n",
    "batch = next(iter(dataloader))\n",
    "print(\"\\nBatch should have shape (batch_size, channels, height, width)\")\n",
    "print(f\"{batch.shape = }\")\n",
    "\n",
    "center_x, center_y = batch.shape[2] // 2, batch.shape[3] // 2\n",
    "print(\"\\nValues should be between -1 and 1\")\n",
    "print(f\"{batch.min() = }\")\n",
    "print(f\"{batch.max() = }\")\n",
    "\n",
    "image = tensor_to_PIL(batch[0])\n",
    "print(\"\\nThe reconstructed image\")\n",
    "display(image)\n"
   ]
  },
  {
   "cell_type": "code",
   "execution_count": 5,
   "metadata": {},
   "outputs": [
    {
     "name": "stdout",
     "output_type": "stream",
     "text": [
      "Get a noisy image at time step 0.\n"
     ]
    },
    {
     "data": {
      "image/jpeg": "[encoded data removed]",
      "image/png": "[encoded data removed]",
      "text/plain": [
       "<PIL.Image.Image image mode=L size=32x32>"
      ]
     },
     "metadata": {},
     "output_type": "display_data"
    },
    {
     "name": "stdout",
     "output_type": "stream",
     "text": [
      "Get a noisy image at time step 64.\n"
     ]
    },
    {
     "data": {
      "image/jpeg": "[encoded data removed]",
      "image/png": "[encoded data removed]",
      "text/plain": [
       "<PIL.Image.Image image mode=L size=32x32>"
      ]
     },
     "metadata": {},
     "output_type": "display_data"
    },
    {
     "name": "stdout",
     "output_type": "stream",
     "text": [
      "Get a noisy image at time step 128.\n"
     ]
    },
    {
     "data": {
      "image/jpeg": "[encoded data removed]",
      "image/png": "[encoded data removed]",
      "text/plain": [
       "<PIL.Image.Image image mode=L size=32x32>"
      ]
     },
     "metadata": {},
     "output_type": "display_data"
    },
    {
     "name": "stdout",
     "output_type": "stream",
     "text": [
      "Get a noisy image at time step 192.\n"
     ]
    },
    {
     "data": {
      "image/jpeg": "[encoded data removed]",
      "image/png": "[encoded data removed]",
      "text/plain": [
       "<PIL.Image.Image image mode=L size=32x32>"
      ]
     },
     "metadata": {},
     "output_type": "display_data"
    }
   ],
   "source": [
    "for t in [0, (1 * timesteps) // 4, (2 * timesteps) // 4, (3 * timesteps) // 4]:\n",
    "    print(f\"Get a noisy image at time step {t}.\")\n",
    "    display(get_noisy_image(batch[0], torch.Tensor([t]).to(torch.int64), constants))"
   ]
  },
  {
   "cell_type": "code",
   "execution_count": 6,
   "metadata": {},
   "outputs": [
    {
     "name": "stderr",
     "output_type": "stream",
     "text": [
      "Epoch 128/128, loss   0.015393: 100%|██████████| 6016/6016 [08:10<00:00, 12.26it/s]\n"
     ]
    }
   ],
   "source": [
    "model = Unet(\n",
    "    dim=image_size,\n",
    "    channels=channels,\n",
    "    dim_mults=(1, 2, 4),\n",
    ")\n",
    "model.to(device)\n",
    "\n",
    "optimizer = Adam(model.parameters(), lr=5e-4)\n",
    "\n",
    "pbar = tqdm(total=len(dataloader) * epochs)\n",
    "for epoch in range(epochs):\n",
    "    for step, batch in enumerate(dataloader):\n",
    "        optimizer.zero_grad()\n",
    "\n",
    "        batch_size = batch.shape[0]\n",
    "        batch = batch.to(device)\n",
    "\n",
    "        # Algorithm 1 line 3: sample t uniformally for every example in the batch\n",
    "        t = torch.randint(0, timesteps, (batch_size,), device=device).long()\n",
    "\n",
    "        loss = p_losses(model, batch, t, constants=constants)\n",
    "\n",
    "        pbar.update(1)\n",
    "        pbar.set_description(f\"Epoch {epoch + 1:3}/{epochs:3}, loss {loss.item():10.6f}\")\n",
    "\n",
    "        loss.backward()\n",
    "        optimizer.step()\n",
    "pbar.close()\n"
   ]
  },
  {
   "cell_type": "code",
   "execution_count": 7,
   "metadata": {},
   "outputs": [
    {
     "name": "stderr",
     "output_type": "stream",
     "text": [
      "sampling loop time step: 100%|██████████| 256/256 [00:04<00:00, 59.31it/s]"
     ]
    },
    {
     "name": "stdout",
     "output_type": "stream",
     "text": [
      "len(samples) = 256\n",
      "samples[0].shape = torch.Size([1, 1, 32, 32])\n"
     ]
    },
    {
     "name": "stderr",
     "output_type": "stream",
     "text": [
      "\n"
     ]
    }
   ],
   "source": [
    "samples = sample(\n",
    "    model,\n",
    "    image_size=image_size,\n",
    "    batch_size=1,\n",
    "    channels=channels,\n",
    "    constants=constants,\n",
    ")\n",
    "print(f\"{len(samples) = }\")\n",
    "print(f\"{samples[0].shape = }\")\n"
   ]
  },
  {
   "cell_type": "code",
   "execution_count": 8,
   "metadata": {},
   "outputs": [
    {
     "name": "stdout",
     "output_type": "stream",
     "text": [
      "Images at 10% intervals\n"
     ]
    },
    {
     "data": {
      "image/jpeg": "[encoded data removed]",
      "image/png": "[encoded data removed]",
      "text/plain": [
       "<PIL.Image.Image image mode=L size=320x32>"
      ]
     },
     "metadata": {},
     "output_type": "display_data"
    },
    {
     "name": "stdout",
     "output_type": "stream",
     "text": [
      "The last 10 images\n"
     ]
    },
    {
     "data": {
      "image/jpeg": "[encoded data removed]",
      "image/png": "[encoded data removed]",
      "text/plain": [
       "<PIL.Image.Image image mode=L size=320x32>"
      ]
     },
     "metadata": {},
     "output_type": "display_data"
    }
   ],
   "source": [
    "print(\"Images at 10% intervals\")\n",
    "images = []\n",
    "for i in range(10):\n",
    "    images.append(samples[i * timesteps // 10][0])\n",
    "display(tensor_to_PIL(torch.cat(images, dim=2)))\n",
    "\n",
    "print(\"The last 10 images\")\n",
    "images = []\n",
    "for i in range(timesteps - 10, timesteps):\n",
    "    images.append(samples[i][0])\n",
    "display(tensor_to_PIL(torch.cat(images, dim=2)))"
   ]
  },
  {
   "cell_type": "code",
   "execution_count": 10,
   "metadata": {},
   "outputs": [
    {
     "name": "stderr",
     "output_type": "stream",
     "text": [
      "refine loop time step:   0%|          | 0/1 [00:00<?, ?it/s]"
     ]
    },
    {
     "name": "stderr",
     "output_type": "stream",
     "text": [
      "refine loop time step: 100%|██████████| 1/1 [00:00<00:00, 54.77it/s]\n"
     ]
    },
    {
     "data": {
      "image/jpeg": "[encoded data removed]",
      "image/png": "[encoded data removed]",
      "text/plain": [
       "<PIL.Image.Image image mode=L size=32x32>"
      ]
     },
     "metadata": {},
     "output_type": "display_data"
    }
   ],
   "source": [
    "refined_image = p_refine(\n",
    "    img=samples[-1],\n",
    "    steps=1,\n",
    "    model=model,\n",
    "    shape=(1, channels, image_size, image_size),\n",
    "    constants=constants,\n",
    ")\n",
    "display(tensor_to_PIL(refined_image[0]))"
   ]
  }
 ],
 "metadata": {
  "kernelspec": {
   "display_name": "diffusion",
   "language": "python",
   "name": "python3"
  },
  "language_info": {
   "codemirror_mode": {
    "name": "ipython",
    "version": 3
   },
   "file_extension": ".py",
   "mimetype": "text/x-python",
   "name": "python",
   "nbconvert_exporter": "python",
   "pygments_lexer": "ipython3",
   "version": "3.12.7"
  }
 },
 "nbformat": 4,
 "nbformat_minor": 2
}
